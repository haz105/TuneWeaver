{
 "cells": [
  {
   "cell_type": "markdown",
   "id": "80179f67",
   "metadata": {},
   "source": [
    "# TuneWeaver: Data Collection and Preparation for Playlist Recommendation Analysis\n",
    "\n",
    "**Project:** TuneWeaver - Enhanced A/B/n Testing & Production-Ready Pipeline for Serendipity Playlists\n",
    "**Notebook Purpose:** This Jupyter Notebook handles the initial and crucial phase of the TuneWeaver project: **Data Collection and Preparation**. Its primary goal is to acquire a substantial dataset of music tracks from the Spotify API, including their metadata and audio features. Subsequently, it performs thorough pre-processing and cleaning to prepare this data for the downstream tasks of algorithm development, simulation, and A/B/n testing analysis.\n",
    "\n",
    "**Key Activities in this Notebook:**\n",
    "1.  **Spotify API Interaction:** Utilizing the Spotipy library to connect to the Spotify Web API.\n",
    "2.  **Data Acquisition:** Fetching data for over 5,000 tracks across a diverse set of genres. This includes:\n",
    "    * Track metadata (ID, name, artist, album, popularity).\n",
    "    * Audio features (e.g., danceability, energy, valence, tempo).\n",
    "3.  **Initial Data Storage:** Saving the raw, collected data into a `songs.csv` file.\n",
    "4.  **Detailed Pre-processing:**\n",
    "    * Loading and inspecting the raw dataset.\n",
    "    * Comprehensive missing value analysis and imputation.\n",
    "    * Normalization of numerical features to ensure consistent scaling for subsequent analysis and modeling.\n",
    "5.  **Final Processed Data Storage:** Saving the cleaned and transformed dataset as `songs_processed.csv`.\n",
    "\n",
    "**Outcome:** A well-structured, clean, and normalized dataset (`songs_processed.csv`) ready for the next stages of the TuneWeaver project, particularly for implementing and evaluating different playlist recommendation algorithms.\n",
    "\n",
    "**Professional Practices Emphasized:**\n",
    "* Secure handling of API credentials (guidance provided).\n",
    "* Clear documentation and comments.\n",
    "* Systematic data cleaning and transformation steps.\n",
    "* Reproducibility considerations."
   ]
  },
  {
   "cell_type": "markdown",
   "id": "358dc0e1",
   "metadata": {},
   "source": [
    "## Part 1: Data Collection using Spotify API (Spotipy)\n",
    "\n",
    "This section outlines the process of collecting music track data. We will use the [Spotipy](https://spotipy.readthedocs.io/) library, a lightweight Python client for the Spotify Web API.\n",
    "\n",
    "**Goal:** To compile a dataset of at least 5,000 unique songs, including their audio features and metadata, covering a variety of genres."
   ]
  },
  {
   "cell_type": "code",
   "execution_count": 1,
   "id": "cb3a6026",
   "metadata": {},
   "outputs": [
    {
     "name": "stdout",
     "output_type": "stream",
     "text": [
      "✅ Configuration loaded successfully.\n",
      "   Targeting approximately 5500 unique tracks.\n",
      "   Raw data will be saved to: 'songs.csv'\n",
      "   Attempting to fetch up to 400 tracks per genre from 20 genres.\n",
      "   Note: Actual Spotify API credentials are not displayed for security.\n"
     ]
    }
   ],
   "source": [
    "# Cell 3: Imports and Configuration for Data Collection\n",
    "\n",
    "# Core libraries\n",
    "import pandas as pd\n",
    "import time\n",
    "import os # For securely accessing environment variables\n",
    "\n",
    "# Spotify API client\n",
    "import spotipy\n",
    "from spotipy.oauth2 import SpotifyClientCredentials\n",
    "\n",
    "# --- Spotify API Credentials Configuration ---\n",
    "# BEST PRACTICE: Store your API credentials as environment variables\n",
    "# and load them using os.getenv(). Avoid hardcoding them directly in your script/notebook.\n",
    "#\n",
    "# Example of setting environment variables (in your terminal/shell before launching Jupyter):\n",
    "# export SPOTIPY_CLIENT_ID='your_actual_client_id'\n",
    "# export SPOTIPY_CLIENT_SECRET='your_actual_client_secret'\n",
    "#\n",
    "# Then, you can load them like this:\n",
    "# client_id = os.getenv('SPOTIPY_CLIENT_ID')\n",
    "# client_secret = os.getenv('SPOTIPY_CLIENT_SECRET')\n",
    "#\n",
    "# If you don't have them set as environment variables, you can temporarily\n",
    "# assign them below FOR DEVELOPMENT PURPOSES ONLY.\n",
    "# **REMEMBER TO REMOVE OR REPLACE WITH os.getenv() BEFORE COMMITTING TO GITHUB.**\n",
    "\n",
    "client_id = os.getenv('SPOTIPY_CLIENT_ID')\n",
    "client_secret = os.getenv('SPOTIPY_CLIENT_SECRET')\n",
    "\n",
    "# Fallback for development if environment variables are not set (NOT FOR PRODUCTION/GITHUB)\n",
    "# If you uncomment the lines below to hardcode, replace 'YOUR_CLIENT_ID' and 'YOUR_CLIENT_SECRET'\n",
    "if not client_id or not client_secret:\n",
    "    print(\"⚠️ Spotify API credentials not found in environment variables.\")\n",
    "    print(\"   Please set SPOTIPY_CLIENT_ID and SPOTIPY_CLIENT_SECRET environment variables for secure credential management.\")\n",
    "    print(\"   For temporary local development only, you can uncomment and fill the lines below.\")\n",
    "    print(\"   Ensure these are NOT committed to version control if hardcoded.\")\n",
    "    # client_id = 'YOUR_CLIENT_ID'  # <<< TEMPORARY: REPLACE WITH YOUR CLIENT ID\n",
    "    # client_secret = 'YOUR_CLIENT_SECRET' # <<< TEMPORARY: REPLACE WITH YOUR CLIENT SECRET\n",
    "\n",
    "# --- Data Collection Parameters ---\n",
    "# Filename for the raw collected data from Spotify\n",
    "raw_output_filename = 'songs.csv'\n",
    "\n",
    "# Target number of unique tracks to collect.\n",
    "# The project plan specifies 5,000+ tracks.\n",
    "total_tracks_target = 5500 # Aiming slightly above 5000 for a buffer\n",
    "\n",
    "# Number of tracks to attempt to fetch per genre.\n",
    "# Spotify's `recommendations` endpoint limit is 100 per call.\n",
    "# This parameter, combined with the number of genres, helps reach `total_tracks_target`.\n",
    "num_tracks_per_genre = 400 # Adjusted to help ensure target is met with genre diversity\n",
    "\n",
    "# Define a diverse list of genres to fetch tracks from.\n",
    "# These serve as seeds for Spotify's recommendation engine.\n",
    "genres = [\n",
    "    \"pop\", \"rock\", \"hip-hop\", \"electronic\", \"classical\", \"jazz\", \"r-n-b\",\n",
    "    \"country\", \"folk\", \"metal\", \"blues\", \"funk\", \"soul\", \"indie\",\n",
    "    \"latin\", \"reggae\", \"punk\", \"alternative\", \"dance\", \"ambient\"\n",
    "]\n",
    "\n",
    "# --- Initial Check and Confirmation ---\n",
    "# This check is crucial to ensure credentials are set before proceeding.\n",
    "if not client_id or client_id == 'YOUR_CLIENT_ID' or \\\n",
    "   not client_secret or client_secret == 'YOUR_CLIENT_SECRET':\n",
    "    raise ValueError(\"Spotify API credentials not set. Halting execution.\")\n",
    "else:\n",
    "    print(\"✅ Configuration loaded successfully.\")\n",
    "    print(f\"   Targeting approximately {total_tracks_target} unique tracks.\")\n",
    "    print(f\"   Raw data will be saved to: '{raw_output_filename}'\")\n",
    "    print(f\"   Attempting to fetch up to {num_tracks_per_genre} tracks per genre from {len(genres)} genres.\")\n",
    "    print(\"   Note: Actual Spotify API credentials are not displayed for security.\")"
   ]
  },
  {
   "cell_type": "code",
   "execution_count": 5,
   "id": "b64b1665",
   "metadata": {},
   "outputs": [
    {
     "name": "stdout",
     "output_type": "stream",
     "text": [
      "--- Testing Direct API Call with 'requests' Library ---\n",
      "Attempting to get an access token using Spotipy auth...\n",
      "✅ Successfully obtained access token.\n",
      "\n",
      "Making direct GET request to: https://api.spotify.com/v1/recommendations\n",
      "Using Authorization Header: Bearer BQDGwTcRMN...nVB6k\n",
      "\n",
      "--- Direct Request Response ---\n",
      "Status Code: 404\n",
      "Response Content (not valid JSON):\n",
      "\n",
      "\n",
      "❌ Received HTTP 404 (Not Found) from direct requests call (response not JSON).\n",
      "\n",
      "--- Direct API Call Test Complete ---\n"
     ]
    }
   ],
   "source": [
    "# New Cell - Test API Call with 'requests' Library Directly\n",
    "\n",
    "import spotipy\n",
    "from spotipy.oauth2 import SpotifyClientCredentials\n",
    "import requests # For making direct HTTP requests\n",
    "import json     # For pretty printing the JSON response\n",
    "\n",
    "print(\"--- Testing Direct API Call with 'requests' Library ---\")\n",
    "\n",
    "# Assuming client_id and client_secret are still in memory from your original Cell 3\n",
    "if 'client_id' in locals() and 'client_secret' in locals() and \\\n",
    "   client_id != 'YOUR_CLIENT_ID' and client_secret != 'YOUR_CLIENT_SECRET':\n",
    "    \n",
    "    access_token = None\n",
    "    try:\n",
    "        # 1. Get an access token using Spotipy's auth manager\n",
    "        print(\"Attempting to get an access token using Spotipy auth...\")\n",
    "        auth_manager_direct_test = SpotifyClientCredentials(client_id=client_id, client_secret=client_secret)\n",
    "        token_info = auth_manager_direct_test.get_access_token(as_dict=False) # Get as string\n",
    "        \n",
    "        if token_info:\n",
    "            access_token = token_info\n",
    "            print(\"✅ Successfully obtained access token.\")\n",
    "            # print(f\"   Access Token (first 10 chars): {access_token[:10]}...\") # Uncomment to verify token format\n",
    "        else:\n",
    "            print(\"❌ Failed to obtain access token using Spotipy auth manager.\")\n",
    "            raise Exception(\"Failed to get access token\")\n",
    "\n",
    "        # 2. Define the API endpoint URL and headers for a direct request\n",
    "        # We'll try fetching the same Miles Davis artist info\n",
    "        artist_id_to_test = '0kbYTNQb4Pb1rPbbaX0p5l'\n",
    "        # This is the standard Spotify API endpoint for an artist\n",
    "        spotify_api_url = f\"https://api.spotify.com/v1/recommendations\" \n",
    "                                   \n",
    "        headers = {\n",
    "            'Authorization': f'Bearer {access_token}'\n",
    "        }\n",
    "\n",
    "        print(f\"\\nMaking direct GET request to: {spotify_api_url}\")\n",
    "        print(f\"Using Authorization Header: Bearer {access_token[:10]}...{access_token[-5:]}\")\n",
    "\n",
    "        # 3. Make the GET request using the 'requests' library\n",
    "        response = requests.get(spotify_api_url, headers=headers)\n",
    "\n",
    "        print(f\"\\n--- Direct Request Response ---\")\n",
    "        print(f\"Status Code: {response.status_code}\")\n",
    "        \n",
    "        # Try to print the response content (usually JSON)\n",
    "        try:\n",
    "            response_content = response.json()\n",
    "            print(\"Response JSON:\")\n",
    "            # Pretty print the JSON\n",
    "            print(json.dumps(response_content, indent=2)) \n",
    "            \n",
    "            if response.status_code == 200 and 'name' in response_content:\n",
    "                print(f\"\\n✅ Successfully fetched artist '{response_content['name']}' via direct requests call!\")\n",
    "            elif response.status_code == 404:\n",
    "                print(f\"\\n❌ Received HTTP 404 (Not Found) from direct requests call as well.\")\n",
    "                print(f\"   This suggests the issue might be with reaching the Spotify API URL correctly,\")\n",
    "                print(f\"   or a fundamental problem with the API endpoint itself, or network interference.\")\n",
    "            else:\n",
    "                print(f\"\\n⚠️ Received status {response.status_code}. Expected 200 for success.\")\n",
    "\n",
    "        except requests.exceptions.JSONDecodeError:\n",
    "            print(\"Response Content (not valid JSON):\")\n",
    "            print(response.text)\n",
    "            if response.status_code == 404:\n",
    "                 print(f\"\\n❌ Received HTTP 404 (Not Found) from direct requests call (response not JSON).\")\n",
    "            \n",
    "    except spotipy.SpotifyException as e: # For issues getting the token via Spotipy\n",
    "        print(f\"❌ Spotify (Spotipy) error during token acquisition: HTTP {e.http_status} - {e.msg}\")\n",
    "        print(f\"   Details: {e}\")\n",
    "    except requests.exceptions.RequestException as e: # For errors during the requests.get() call itself (e.g., network error)\n",
    "        print(f\"❌ 'requests' library error during direct API call: {type(e).__name__} - {e}\")\n",
    "        print(f\"   This could indicate a network issue or problem reaching the Spotify domain.\")\n",
    "    except Exception as e:\n",
    "        print(f\"❌ An unexpected error occurred during the direct API call test: {type(e).__name__} - {e}\")\n",
    "else:\n",
    "    print(\"❌ Spotify client_id or client_secret are not properly set up from your original Cell 3.\")\n",
    "    print(\"   Cannot run the direct API call test without valid authentication to get a token.\")\n",
    "\n",
    "print(\"\\n--- Direct API Call Test Complete ---\")"
   ]
  },
  {
   "cell_type": "code",
   "execution_count": 3,
   "id": "5bb3aba4",
   "metadata": {},
   "outputs": [
    {
     "name": "stdout",
     "output_type": "stream",
     "text": [
      "✅ Spotify data fetching function `fetch_spotify_track_data` is defined and ready to be called.\n",
      "   This function includes type hints, detailed docstrings, and enhanced error handling.\n"
     ]
    }
   ],
   "source": [
    "# Cell 4: Define the Spotify Data Fetching Function\n",
    "\n",
    "def fetch_spotify_track_data(client_id_param: str,\n",
    "                               client_secret_param: str,\n",
    "                               genres_list: list,\n",
    "                               num_tracks_per_genre_target: int,\n",
    "                               total_tracks_overall_target: int) -> pd.DataFrame | None:\n",
    "    \"\"\"\n",
    "    Fetches track metadata and audio features from the Spotify API for a list of seed genres.\n",
    "\n",
    "    Args:\n",
    "        client_id_param (str): Spotify API Client ID.\n",
    "        client_secret_param (str): Spotify API Client Secret.\n",
    "        genres_list (list): A list of genre strings to use as seeds for recommendations.\n",
    "        num_tracks_per_genre_target (int): The desired number of tracks to fetch per genre.\n",
    "                                           The function will attempt to get up to this many new tracks\n",
    "                                           for each genre, subject to API limits and availability.\n",
    "        total_tracks_overall_target (int): The minimum total number of unique tracks to collect across all genres.\n",
    "                                           The function will stop fetching new genres once this target is met or exceeded.\n",
    "\n",
    "    Returns:\n",
    "        pd.DataFrame | None: A pandas DataFrame containing the collected track data (including metadata\n",
    "                              and audio features like 'danceability', 'energy', 'valence', etc.),\n",
    "                              or None if a critical error occurs during authentication or if no data\n",
    "                              can be fetched. The DataFrame includes a 'genre_seed' column indicating\n",
    "                              the genre that led to the track's discovery.\n",
    "    \"\"\"\n",
    "    if not client_id_param or client_id_param == 'YOUR_CLIENT_ID' or \\\n",
    "       not client_secret_param or client_secret_param == 'YOUR_CLIENT_SECRET':\n",
    "        print(\"❌ Error: Spotify Client ID or Secret not properly provided to `Workspace_spotify_track_data` function.\")\n",
    "        print(\"   Please ensure Cell 3 is correctly configured with valid credentials.\")\n",
    "        return None\n",
    "\n",
    "    try:\n",
    "        # Authenticate with Spotify API using Client Credentials Flow\n",
    "        # This flow is suitable for server-to-server authentication where no user is directly involved.\n",
    "        auth_manager = SpotifyClientCredentials(client_id=client_id_param, client_secret=client_secret_param)\n",
    "        sp = spotipy.Spotify(auth_manager=auth_manager)\n",
    "        print(\"✅ Successfully authenticated with Spotify API for data fetching.\")\n",
    "    except Exception as e:\n",
    "        print(f\"❌ CRITICAL ERROR during Spotify authentication in `fetch_spotify_track_data`: {e}\")\n",
    "        print(\"   Please double-check your Client ID and Secret in Cell 3 and your network connection.\")\n",
    "        return None\n",
    "\n",
    "    all_tracks_data = []  # List to store dictionaries, each representing a track's complete data\n",
    "    track_ids_seen = set()  # Set to keep track of collected track IDs to ensure uniqueness across all API calls\n",
    "\n",
    "    print(f\"\\n🔄 Initializing data collection. Overall target: {total_tracks_overall_target} unique tracks.\")\n",
    "    print(f\"   Will attempt to fetch up to {num_tracks_per_genre_target} tracks per genre from {len(genres_list)} seed genres.\")\n",
    "\n",
    "    for genre_item in genres_list:\n",
    "        # Check if the overall target for unique tracks has been met before processing a new genre\n",
    "        if len(track_ids_seen) >= total_tracks_overall_target:\n",
    "            print(f\"\\n🏁 Overall track target ({total_tracks_overall_target}) met or exceeded. Halting further genre processing.\")\n",
    "            break\n",
    "\n",
    "        print(f\"\\n🎵 Processing Genre: '{genre_item}' (Collected so far: {len(track_ids_seen)} unique tracks)\")\n",
    "        current_genre_track_count = 0 # Counter for tracks collected for the current genre\n",
    "        \n",
    "        # Spotify's `recommendations` endpoint has a limit of 100 tracks per API call.\n",
    "        # We'll use a slightly lower limit per call (e.g., 75) to be cautious and allow for multiple calls if needed.\n",
    "        limit_per_api_call = 75 \n",
    "\n",
    "        # Calculate the number of API calls potentially needed to reach `num_tracks_per_genre_target` for the current genre.\n",
    "        # This is an estimate; actual calls might be fewer if targets are met or no more tracks are available.\n",
    "        num_api_calls_for_genre_estimate = (num_tracks_per_genre_target + limit_per_api_call - 1) // limit_per_api_call\n",
    "\n",
    "        for call_num in range(num_api_calls_for_genre_estimate):\n",
    "            # Check overall and per-genre targets before making an API call\n",
    "            if len(track_ids_seen) >= total_tracks_overall_target:\n",
    "                break \n",
    "            if current_genre_track_count >= num_tracks_per_genre_target:\n",
    "                print(f\"  Target of {current_genre_track_count}/{num_tracks_per_genre_target} tracks reached for genre '{genre_item}'.\")\n",
    "                break\n",
    "\n",
    "            try:\n",
    "                # Fetch track recommendations based on the current seed genre.\n",
    "                # The `recommendations` endpoint can take various parameters to tune results (e.g., target_*)\n",
    "                # For simplicity, we're using only `seed_genres` and `limit`.\n",
    "                print(f\"  Making API call {call_num + 1}/{num_api_calls_for_genre_estimate} for genre '{genre_item}'...\")\n",
    "                results = sp.recommendations(seed_genres=[genre_item], limit=limit_per_api_call)\n",
    "                \n",
    "                if not results or not results['tracks']:\n",
    "                    print(f\"  ⚠️ No tracks returned by API for genre '{genre_item}' in this call. Recommendations might be exhausted for this query.\")\n",
    "                    break # Stop trying for this genre if Spotify returns no tracks for this specific recommendation query\n",
    "\n",
    "                # Extract track IDs from the current batch of recommendations\n",
    "                current_batch_track_ids = [track['id'] for track in results['tracks'] if track and track.get('id')]\n",
    "                \n",
    "                # Filter out tracks already seen globally or those without valid IDs from this batch\n",
    "                new_unique_track_ids_in_batch = [tid for tid in current_batch_track_ids if tid and tid not in track_ids_seen]\n",
    "\n",
    "                if not new_unique_track_ids_in_batch:\n",
    "                    # print(f\"  No new unique tracks in this batch for genre '{genre_item}'.\")\n",
    "                    continue # Move to the next API call (if any) or next genre if no new tracks found in this batch\n",
    "\n",
    "                # Collect detailed information for the new unique tracks found in this batch\n",
    "                batch_track_details_list = []\n",
    "                for track_data_from_api in results['tracks']:\n",
    "                    track_id = track_data_from_api.get('id')\n",
    "                    # Ensure this track ID is one of the new unique ones identified for this batch\n",
    "                    if track_id and track_id in new_unique_track_ids_in_batch:\n",
    "                        # Double-check per-genre target before adding detailed info\n",
    "                        if current_genre_track_count >= num_tracks_per_genre_target: break \n",
    "\n",
    "                        track_info_dict = {\n",
    "                            'id': track_id,\n",
    "                            'name': track_data_from_api.get('name'),\n",
    "                            'popularity': track_data_from_api.get('popularity'),\n",
    "                            'artist_name': track_data_from_api['artists'][0]['name'] if track_data_from_api.get('artists') else None,\n",
    "                            'artist_id': track_data_from_api['artists'][0]['id'] if track_data_from_api.get('artists') else None,\n",
    "                            'album_name': track_data_from_api.get('album', {}).get('name'), # Safer access for nested dict\n",
    "                            'album_id': track_data_from_api.get('album', {}).get('id'),   # Safer access\n",
    "                            'preview_url': track_data_from_api.get('preview_url'),\n",
    "                            'external_url': track_data_from_api.get('external_urls', {}).get('spotify'), # Safer access\n",
    "                            'genre_seed': genre_item, # Store the seed genre for context/later analysis\n",
    "                            'explicit': track_data_from_api.get('explicit', False) # Get 'explicit' status, default to False\n",
    "                        }\n",
    "                        batch_track_details_list.append(track_info_dict)\n",
    "                        track_ids_seen.add(track_id) # Add to master set of seen track IDs\n",
    "                        current_genre_track_count += 1\n",
    "                \n",
    "                # Fetch audio features for the newly collected tracks in this batch\n",
    "                if batch_track_details_list:\n",
    "                    ids_for_audio_features_query = [t['id'] for t in batch_track_details_list]\n",
    "                    audio_features_api_results = sp.audio_features(tracks=ids_for_audio_features_query)\n",
    "                    \n",
    "                    # Create a dictionary for efficient lookup of audio features by track ID\n",
    "                    features_lookup_dict = {f['id']: f for f in audio_features_api_results if f} # Ensure f is not None\n",
    "                    \n",
    "                    # Merge audio features into their respective track detail dictionaries\n",
    "                    for track_item_dict in batch_track_details_list:\n",
    "                        features = features_lookup_dict.get(track_item_dict['id'])\n",
    "                        if features: # Check if audio features were found for this track\n",
    "                            track_item_dict.update({\n",
    "                                'danceability': features.get('danceability'), 'energy': features.get('energy'),\n",
    "                                'key': features.get('key'), 'loudness': features.get('loudness'),\n",
    "                                'mode': features.get('mode'), 'speechiness': features.get('speechiness'),\n",
    "                                'acousticness': features.get('acousticness'), \n",
    "                                'instrumentalness': features.get('instrumentalness'),\n",
    "                                'liveness': features.get('liveness'), 'valence': features.get('valence'),\n",
    "                                'tempo': features.get('tempo'), 'duration_ms': features.get('duration_ms'),\n",
    "                                'time_signature': features.get('time_signature')\n",
    "                            })\n",
    "                        # Add the enriched track data (metadata + audio features) to the main list for DataFrame creation\n",
    "                        all_tracks_data.append(track_item_dict) \n",
    "                \n",
    "                print(f\"  Fetched {current_genre_track_count} tracks for '{genre_item}'. Total unique tracks collected: {len(track_ids_seen)}.\")\n",
    "                \n",
    "                # Be respectful to the API: A short pause between API calls.\n",
    "                time.sleep(0.6) # Pause for 600 milliseconds\n",
    "\n",
    "            except spotipy.SpotifyException as e:\n",
    "                print(f\"  ❌ Spotify API Error during recommendations for genre '{genre_item}': HTTP {e.http_status} - {e.msg}\")\n",
    "                if e.http_status == 429: # Rate limit error\n",
    "                    # Spotify API often provides a 'Retry-After' header indicating how many seconds to wait.\n",
    "                    retry_after_seconds = int(e.headers.get('Retry-After', 30)) # Default to 30s if header not found\n",
    "                    print(f\"  🕒 Rate limit hit. Spotify API advises waiting for {retry_after_seconds} seconds...\")\n",
    "                    time.sleep(retry_after_seconds)\n",
    "                else: # Other Spotify API errors (e.g., 401 Unauthorized, 403 Forbidden, 500 Internal Server Error)\n",
    "                    print(f\"  Skipping to next API call or genre due to unrecoverable Spotify API error: HTTP {e.http_status}.\")\n",
    "                    time.sleep(5) # Brief general pause for other errors before continuing\n",
    "            except Exception as e: # Catch any other unexpected errors during processing for a genre\n",
    "                print(f\"  ❌ An unexpected error occurred while processing genre '{genre_item}': {type(e).__name__} - {str(e)}\")\n",
    "                print(f\"     Problematic track data might be skipped. Continuing with next batch or genre if possible.\")\n",
    "                time.sleep(5) # Brief pause\n",
    "    \n",
    "    # After iterating through all genres or meeting the track target\n",
    "    if not all_tracks_data:\n",
    "        print(\"\\n🔴 No track data was collected successfully. This could be due to persistent API issues,\")\n",
    "        print(\"   incorrect API configuration, or issues with the provided genre seeds yielding no results.\")\n",
    "        return None\n",
    "\n",
    "    # Convert the list of track data dictionaries into a pandas DataFrame\n",
    "    tracks_df = pd.DataFrame(all_tracks_data)\n",
    "    print(f\"\\n📊 Total tracks collected and dictionary entries created before final processing: {len(tracks_df)}\")\n",
    "    \n",
    "    # Final de-duplication based on track ID (this should be largely redundant if track_ids_seen logic is perfect, but acts as a good safeguard)\n",
    "    tracks_df.drop_duplicates(subset=['id'], keep='first', inplace=True)\n",
    "    print(f\"   Unique tracks after final de-duplication based on 'id': {len(tracks_df)}\")\n",
    "    \n",
    "    # Drop rows where essential information might still be missing (e.g., if API returned partial data for some reason)\n",
    "    # The .get() method used during data extraction should prevent most KeyErrors if fields are missing from API response,\n",
    "    # resulting in NaN values instead, which can then be handled by dropna or later imputation.\n",
    "    essential_fields_for_dropna = ['id', 'name', 'artist_name'] # Consider adding 'popularity' and core audio features if strictly needed and not imputable\n",
    "    tracks_df.dropna(subset=essential_fields_for_dropna, inplace=True)\n",
    "    print(f\"   Tracks remaining after ensuring essential fields ({', '.join(essential_fields_for_dropna)}) are present: {len(tracks_df)}\")\n",
    "    \n",
    "    # Final check on target achievement\n",
    "    if len(tracks_df) < total_tracks_overall_target:\n",
    "        print(f\"\\n⚠️ Warning: Collected {len(tracks_df)} unique and valid tracks, which is less than the target of {total_tracks_overall_target}.\")\n",
    "        print(f\"   This could be due to API limitations, strictness of queries, or exhaustion of available tracks for given seeds.\")\n",
    "    else:\n",
    "        print(f\"\\n✅ Successfully collected {len(tracks_df)} unique and valid tracks, meeting or exceeding the overall target.\")\n",
    "    \n",
    "    return tracks_df\n",
    "\n",
    "# Print a confirmation that the function is defined and ready.\n",
    "print(\"✅ Spotify data fetching function `fetch_spotify_track_data` is defined and ready to be called.\")\n",
    "print(\"   This function includes type hints, detailed docstrings, and enhanced error handling.\")"
   ]
  },
  {
   "cell_type": "code",
   "execution_count": 4,
   "id": "3e729d33",
   "metadata": {},
   "outputs": [
    {
     "name": "stderr",
     "output_type": "stream",
     "text": [
      "HTTP Error for GET to https://api.spotify.com/v1/recommendations with Params: {'limit': 75, 'seed_genres': 'pop'} returned 404 due to None\n"
     ]
    },
    {
     "name": "stdout",
     "output_type": "stream",
     "text": [
      "🚀 Initiating Spotify Data Collection Process...\n",
      "   Calling the `fetch_spotify_track_data` function...\n",
      "✅ Successfully authenticated with Spotify API for data fetching.\n",
      "\n",
      "🔄 Initializing data collection. Overall target: 5500 unique tracks.\n",
      "   Will attempt to fetch up to 400 tracks per genre from 20 seed genres.\n",
      "\n",
      "🎵 Processing Genre: 'pop' (Collected so far: 0 unique tracks)\n",
      "  Making API call 1/6 for genre 'pop'...\n",
      "  ❌ Spotify API Error during recommendations for genre 'pop': HTTP 404 - https://api.spotify.com/v1/recommendations?limit=75&seed_genres=pop:\n",
      " None\n",
      "  Skipping to next API call or genre due to unrecoverable Spotify API error: HTTP 404.\n"
     ]
    },
    {
     "name": "stderr",
     "output_type": "stream",
     "text": [
      "HTTP Error for GET to https://api.spotify.com/v1/recommendations with Params: {'limit': 75, 'seed_genres': 'pop'} returned 404 due to None\n"
     ]
    },
    {
     "name": "stdout",
     "output_type": "stream",
     "text": [
      "  Making API call 2/6 for genre 'pop'...\n",
      "  ❌ Spotify API Error during recommendations for genre 'pop': HTTP 404 - https://api.spotify.com/v1/recommendations?limit=75&seed_genres=pop:\n",
      " None\n",
      "  Skipping to next API call or genre due to unrecoverable Spotify API error: HTTP 404.\n"
     ]
    },
    {
     "name": "stderr",
     "output_type": "stream",
     "text": [
      "HTTP Error for GET to https://api.spotify.com/v1/recommendations with Params: {'limit': 75, 'seed_genres': 'pop'} returned 404 due to None\n"
     ]
    },
    {
     "name": "stdout",
     "output_type": "stream",
     "text": [
      "  Making API call 3/6 for genre 'pop'...\n",
      "  ❌ Spotify API Error during recommendations for genre 'pop': HTTP 404 - https://api.spotify.com/v1/recommendations?limit=75&seed_genres=pop:\n",
      " None\n",
      "  Skipping to next API call or genre due to unrecoverable Spotify API error: HTTP 404.\n"
     ]
    },
    {
     "name": "stderr",
     "output_type": "stream",
     "text": [
      "HTTP Error for GET to https://api.spotify.com/v1/recommendations with Params: {'limit': 75, 'seed_genres': 'pop'} returned 404 due to None\n"
     ]
    },
    {
     "name": "stdout",
     "output_type": "stream",
     "text": [
      "  Making API call 4/6 for genre 'pop'...\n",
      "  ❌ Spotify API Error during recommendations for genre 'pop': HTTP 404 - https://api.spotify.com/v1/recommendations?limit=75&seed_genres=pop:\n",
      " None\n",
      "  Skipping to next API call or genre due to unrecoverable Spotify API error: HTTP 404.\n"
     ]
    },
    {
     "name": "stderr",
     "output_type": "stream",
     "text": [
      "HTTP Error for GET to https://api.spotify.com/v1/recommendations with Params: {'limit': 75, 'seed_genres': 'pop'} returned 404 due to None\n"
     ]
    },
    {
     "name": "stdout",
     "output_type": "stream",
     "text": [
      "  Making API call 5/6 for genre 'pop'...\n",
      "  ❌ Spotify API Error during recommendations for genre 'pop': HTTP 404 - https://api.spotify.com/v1/recommendations?limit=75&seed_genres=pop:\n",
      " None\n",
      "  Skipping to next API call or genre due to unrecoverable Spotify API error: HTTP 404.\n"
     ]
    },
    {
     "name": "stderr",
     "output_type": "stream",
     "text": [
      "HTTP Error for GET to https://api.spotify.com/v1/recommendations with Params: {'limit': 75, 'seed_genres': 'pop'} returned 404 due to None\n"
     ]
    },
    {
     "name": "stdout",
     "output_type": "stream",
     "text": [
      "  Making API call 6/6 for genre 'pop'...\n",
      "  ❌ Spotify API Error during recommendations for genre 'pop': HTTP 404 - https://api.spotify.com/v1/recommendations?limit=75&seed_genres=pop:\n",
      " None\n",
      "  Skipping to next API call or genre due to unrecoverable Spotify API error: HTTP 404.\n"
     ]
    },
    {
     "name": "stderr",
     "output_type": "stream",
     "text": [
      "HTTP Error for GET to https://api.spotify.com/v1/recommendations with Params: {'limit': 75, 'seed_genres': 'rock'} returned 404 due to None\n"
     ]
    },
    {
     "name": "stdout",
     "output_type": "stream",
     "text": [
      "\n",
      "🎵 Processing Genre: 'rock' (Collected so far: 0 unique tracks)\n",
      "  Making API call 1/6 for genre 'rock'...\n",
      "  ❌ Spotify API Error during recommendations for genre 'rock': HTTP 404 - https://api.spotify.com/v1/recommendations?limit=75&seed_genres=rock:\n",
      " None\n",
      "  Skipping to next API call or genre due to unrecoverable Spotify API error: HTTP 404.\n"
     ]
    },
    {
     "name": "stderr",
     "output_type": "stream",
     "text": [
      "HTTP Error for GET to https://api.spotify.com/v1/recommendations with Params: {'limit': 75, 'seed_genres': 'rock'} returned 404 due to None\n"
     ]
    },
    {
     "name": "stdout",
     "output_type": "stream",
     "text": [
      "  Making API call 2/6 for genre 'rock'...\n",
      "  ❌ Spotify API Error during recommendations for genre 'rock': HTTP 404 - https://api.spotify.com/v1/recommendations?limit=75&seed_genres=rock:\n",
      " None\n",
      "  Skipping to next API call or genre due to unrecoverable Spotify API error: HTTP 404.\n"
     ]
    },
    {
     "name": "stderr",
     "output_type": "stream",
     "text": [
      "HTTP Error for GET to https://api.spotify.com/v1/recommendations with Params: {'limit': 75, 'seed_genres': 'rock'} returned 404 due to None\n"
     ]
    },
    {
     "name": "stdout",
     "output_type": "stream",
     "text": [
      "  Making API call 3/6 for genre 'rock'...\n",
      "  ❌ Spotify API Error during recommendations for genre 'rock': HTTP 404 - https://api.spotify.com/v1/recommendations?limit=75&seed_genres=rock:\n",
      " None\n",
      "  Skipping to next API call or genre due to unrecoverable Spotify API error: HTTP 404.\n"
     ]
    },
    {
     "name": "stderr",
     "output_type": "stream",
     "text": [
      "HTTP Error for GET to https://api.spotify.com/v1/recommendations with Params: {'limit': 75, 'seed_genres': 'rock'} returned 404 due to None\n"
     ]
    },
    {
     "name": "stdout",
     "output_type": "stream",
     "text": [
      "  Making API call 4/6 for genre 'rock'...\n",
      "  ❌ Spotify API Error during recommendations for genre 'rock': HTTP 404 - https://api.spotify.com/v1/recommendations?limit=75&seed_genres=rock:\n",
      " None\n",
      "  Skipping to next API call or genre due to unrecoverable Spotify API error: HTTP 404.\n"
     ]
    },
    {
     "name": "stderr",
     "output_type": "stream",
     "text": [
      "HTTP Error for GET to https://api.spotify.com/v1/recommendations with Params: {'limit': 75, 'seed_genres': 'rock'} returned 404 due to None\n"
     ]
    },
    {
     "name": "stdout",
     "output_type": "stream",
     "text": [
      "  Making API call 5/6 for genre 'rock'...\n",
      "  ❌ Spotify API Error during recommendations for genre 'rock': HTTP 404 - https://api.spotify.com/v1/recommendations?limit=75&seed_genres=rock:\n",
      " None\n",
      "  Skipping to next API call or genre due to unrecoverable Spotify API error: HTTP 404.\n"
     ]
    },
    {
     "name": "stderr",
     "output_type": "stream",
     "text": [
      "HTTP Error for GET to https://api.spotify.com/v1/recommendations with Params: {'limit': 75, 'seed_genres': 'rock'} returned 404 due to None\n"
     ]
    },
    {
     "name": "stdout",
     "output_type": "stream",
     "text": [
      "  Making API call 6/6 for genre 'rock'...\n",
      "  ❌ Spotify API Error during recommendations for genre 'rock': HTTP 404 - https://api.spotify.com/v1/recommendations?limit=75&seed_genres=rock:\n",
      " None\n",
      "  Skipping to next API call or genre due to unrecoverable Spotify API error: HTTP 404.\n"
     ]
    },
    {
     "ename": "KeyboardInterrupt",
     "evalue": "",
     "output_type": "error",
     "traceback": [
      "\u001b[1;31m---------------------------------------------------------------------------\u001b[0m",
      "\u001b[1;31mHTTPError\u001b[0m                                 Traceback (most recent call last)",
      "File \u001b[1;32mc:\\Users\\Hao Zhang\\AppData\\Local\\Programs\\Python\\Python311\\Lib\\site-packages\\spotipy\\client.py:274\u001b[0m, in \u001b[0;36mSpotify._internal_call\u001b[1;34m(self, method, url, payload, params)\u001b[0m\n\u001b[0;32m    269\u001b[0m response \u001b[38;5;241m=\u001b[39m \u001b[38;5;28mself\u001b[39m\u001b[38;5;241m.\u001b[39m_session\u001b[38;5;241m.\u001b[39mrequest(\n\u001b[0;32m    270\u001b[0m     method, url, headers\u001b[38;5;241m=\u001b[39mheaders, proxies\u001b[38;5;241m=\u001b[39m\u001b[38;5;28mself\u001b[39m\u001b[38;5;241m.\u001b[39mproxies,\n\u001b[0;32m    271\u001b[0m     timeout\u001b[38;5;241m=\u001b[39m\u001b[38;5;28mself\u001b[39m\u001b[38;5;241m.\u001b[39mrequests_timeout, \u001b[38;5;241m*\u001b[39m\u001b[38;5;241m*\u001b[39margs\n\u001b[0;32m    272\u001b[0m )\n\u001b[1;32m--> 274\u001b[0m \u001b[43mresponse\u001b[49m\u001b[38;5;241;43m.\u001b[39;49m\u001b[43mraise_for_status\u001b[49m\u001b[43m(\u001b[49m\u001b[43m)\u001b[49m\n\u001b[0;32m    275\u001b[0m results \u001b[38;5;241m=\u001b[39m response\u001b[38;5;241m.\u001b[39mjson()\n",
      "File \u001b[1;32mc:\\Users\\Hao Zhang\\AppData\\Local\\Programs\\Python\\Python311\\Lib\\site-packages\\requests\\models.py:1024\u001b[0m, in \u001b[0;36mResponse.raise_for_status\u001b[1;34m(self)\u001b[0m\n\u001b[0;32m   1023\u001b[0m \u001b[38;5;28;01mif\u001b[39;00m http_error_msg:\n\u001b[1;32m-> 1024\u001b[0m     \u001b[38;5;28;01mraise\u001b[39;00m HTTPError(http_error_msg, response\u001b[38;5;241m=\u001b[39m\u001b[38;5;28mself\u001b[39m)\n",
      "\u001b[1;31mHTTPError\u001b[0m: 404 Client Error: Not Found for url: https://api.spotify.com/v1/recommendations?limit=75&seed_genres=rock",
      "\nDuring handling of the above exception, another exception occurred:\n",
      "\u001b[1;31mSpotifyException\u001b[0m                          Traceback (most recent call last)",
      "Cell \u001b[1;32mIn[3], line 81\u001b[0m, in \u001b[0;36mfetch_spotify_track_data\u001b[1;34m(client_id_param, client_secret_param, genres_list, num_tracks_per_genre_target, total_tracks_overall_target)\u001b[0m\n\u001b[0;32m     80\u001b[0m \u001b[38;5;28mprint\u001b[39m(\u001b[38;5;124mf\u001b[39m\u001b[38;5;124m\"\u001b[39m\u001b[38;5;124m  Making API call \u001b[39m\u001b[38;5;132;01m{\u001b[39;00mcall_num\u001b[38;5;250m \u001b[39m\u001b[38;5;241m+\u001b[39m\u001b[38;5;250m \u001b[39m\u001b[38;5;241m1\u001b[39m\u001b[38;5;132;01m}\u001b[39;00m\u001b[38;5;124m/\u001b[39m\u001b[38;5;132;01m{\u001b[39;00mnum_api_calls_for_genre_estimate\u001b[38;5;132;01m}\u001b[39;00m\u001b[38;5;124m for genre \u001b[39m\u001b[38;5;124m'\u001b[39m\u001b[38;5;132;01m{\u001b[39;00mgenre_item\u001b[38;5;132;01m}\u001b[39;00m\u001b[38;5;124m'\u001b[39m\u001b[38;5;124m...\u001b[39m\u001b[38;5;124m\"\u001b[39m)\n\u001b[1;32m---> 81\u001b[0m results \u001b[38;5;241m=\u001b[39m \u001b[43msp\u001b[49m\u001b[38;5;241;43m.\u001b[39;49m\u001b[43mrecommendations\u001b[49m\u001b[43m(\u001b[49m\u001b[43mseed_genres\u001b[49m\u001b[38;5;241;43m=\u001b[39;49m\u001b[43m[\u001b[49m\u001b[43mgenre_item\u001b[49m\u001b[43m]\u001b[49m\u001b[43m,\u001b[49m\u001b[43m \u001b[49m\u001b[43mlimit\u001b[49m\u001b[38;5;241;43m=\u001b[39;49m\u001b[43mlimit_per_api_call\u001b[49m\u001b[43m)\u001b[49m\n\u001b[0;32m     83\u001b[0m \u001b[38;5;28;01mif\u001b[39;00m \u001b[38;5;129;01mnot\u001b[39;00m results \u001b[38;5;129;01mor\u001b[39;00m \u001b[38;5;129;01mnot\u001b[39;00m results[\u001b[38;5;124m'\u001b[39m\u001b[38;5;124mtracks\u001b[39m\u001b[38;5;124m'\u001b[39m]:\n",
      "File \u001b[1;32mc:\\Users\\Hao Zhang\\AppData\\Local\\Programs\\Python\\Python311\\Lib\\site-packages\\spotipy\\client.py:1761\u001b[0m, in \u001b[0;36mSpotify.recommendations\u001b[1;34m(self, seed_artists, seed_genres, seed_tracks, limit, country, **kwargs)\u001b[0m\n\u001b[0;32m   1760\u001b[0m             params[param] \u001b[38;5;241m=\u001b[39m kwargs[param]\n\u001b[1;32m-> 1761\u001b[0m \u001b[38;5;28;01mreturn\u001b[39;00m \u001b[38;5;28;43mself\u001b[39;49m\u001b[38;5;241;43m.\u001b[39;49m\u001b[43m_get\u001b[49m\u001b[43m(\u001b[49m\u001b[38;5;124;43m\"\u001b[39;49m\u001b[38;5;124;43mrecommendations\u001b[39;49m\u001b[38;5;124;43m\"\u001b[39;49m\u001b[43m,\u001b[49m\u001b[43m \u001b[49m\u001b[38;5;241;43m*\u001b[39;49m\u001b[38;5;241;43m*\u001b[39;49m\u001b[43mparams\u001b[49m\u001b[43m)\u001b[49m\n",
      "File \u001b[1;32mc:\\Users\\Hao Zhang\\AppData\\Local\\Programs\\Python\\Python311\\Lib\\site-packages\\spotipy\\client.py:324\u001b[0m, in \u001b[0;36mSpotify._get\u001b[1;34m(self, url, args, payload, **kwargs)\u001b[0m\n\u001b[0;32m    322\u001b[0m     kwargs\u001b[38;5;241m.\u001b[39mupdate(args)\n\u001b[1;32m--> 324\u001b[0m \u001b[38;5;28;01mreturn\u001b[39;00m \u001b[38;5;28;43mself\u001b[39;49m\u001b[38;5;241;43m.\u001b[39;49m\u001b[43m_internal_call\u001b[49m\u001b[43m(\u001b[49m\u001b[38;5;124;43m\"\u001b[39;49m\u001b[38;5;124;43mGET\u001b[39;49m\u001b[38;5;124;43m\"\u001b[39;49m\u001b[43m,\u001b[49m\u001b[43m \u001b[49m\u001b[43murl\u001b[49m\u001b[43m,\u001b[49m\u001b[43m \u001b[49m\u001b[43mpayload\u001b[49m\u001b[43m,\u001b[49m\u001b[43m \u001b[49m\u001b[43mkwargs\u001b[49m\u001b[43m)\u001b[49m\n",
      "File \u001b[1;32mc:\\Users\\Hao Zhang\\AppData\\Local\\Programs\\Python\\Python311\\Lib\\site-packages\\spotipy\\client.py:294\u001b[0m, in \u001b[0;36mSpotify._internal_call\u001b[1;34m(self, method, url, payload, params)\u001b[0m\n\u001b[0;32m    291\u001b[0m     logger\u001b[38;5;241m.\u001b[39merror(\u001b[38;5;124mf\u001b[39m\u001b[38;5;124m\"\u001b[39m\u001b[38;5;124mHTTP Error for \u001b[39m\u001b[38;5;132;01m{\u001b[39;00mmethod\u001b[38;5;132;01m}\u001b[39;00m\u001b[38;5;124m to \u001b[39m\u001b[38;5;132;01m{\u001b[39;00murl\u001b[38;5;132;01m}\u001b[39;00m\u001b[38;5;124m with Params: \u001b[39m\u001b[38;5;124m\"\u001b[39m\n\u001b[0;32m    292\u001b[0m                  \u001b[38;5;124mf\u001b[39m\u001b[38;5;124m\"\u001b[39m\u001b[38;5;132;01m{\u001b[39;00margs\u001b[38;5;241m.\u001b[39mget(\u001b[38;5;124m'\u001b[39m\u001b[38;5;124mparams\u001b[39m\u001b[38;5;124m'\u001b[39m)\u001b[38;5;132;01m}\u001b[39;00m\u001b[38;5;124m returned \u001b[39m\u001b[38;5;132;01m{\u001b[39;00mresponse\u001b[38;5;241m.\u001b[39mstatus_code\u001b[38;5;132;01m}\u001b[39;00m\u001b[38;5;124m due to \u001b[39m\u001b[38;5;132;01m{\u001b[39;00mmsg\u001b[38;5;132;01m}\u001b[39;00m\u001b[38;5;124m\"\u001b[39m)\n\u001b[1;32m--> 294\u001b[0m     \u001b[38;5;28;01mraise\u001b[39;00m SpotifyException(\n\u001b[0;32m    295\u001b[0m         response\u001b[38;5;241m.\u001b[39mstatus_code,\n\u001b[0;32m    296\u001b[0m         \u001b[38;5;241m-\u001b[39m\u001b[38;5;241m1\u001b[39m,\n\u001b[0;32m    297\u001b[0m         \u001b[38;5;124mf\u001b[39m\u001b[38;5;124m\"\u001b[39m\u001b[38;5;132;01m{\u001b[39;00mresponse\u001b[38;5;241m.\u001b[39murl\u001b[38;5;132;01m}\u001b[39;00m\u001b[38;5;124m:\u001b[39m\u001b[38;5;130;01m\\n\u001b[39;00m\u001b[38;5;124m \u001b[39m\u001b[38;5;132;01m{\u001b[39;00mmsg\u001b[38;5;132;01m}\u001b[39;00m\u001b[38;5;124m\"\u001b[39m,\n\u001b[0;32m    298\u001b[0m         reason\u001b[38;5;241m=\u001b[39mreason,\n\u001b[0;32m    299\u001b[0m         headers\u001b[38;5;241m=\u001b[39mresponse\u001b[38;5;241m.\u001b[39mheaders,\n\u001b[0;32m    300\u001b[0m     )\n\u001b[0;32m    301\u001b[0m \u001b[38;5;28;01mexcept\u001b[39;00m requests\u001b[38;5;241m.\u001b[39mexceptions\u001b[38;5;241m.\u001b[39mRetryError \u001b[38;5;28;01mas\u001b[39;00m retry_error:\n",
      "\u001b[1;31mSpotifyException\u001b[0m: http status: 404, code: -1 - https://api.spotify.com/v1/recommendations?limit=75&seed_genres=rock:\n None, reason: None",
      "\nDuring handling of the above exception, another exception occurred:\n",
      "\u001b[1;31mKeyboardInterrupt\u001b[0m                         Traceback (most recent call last)",
      "Cell \u001b[1;32mIn[4], line 18\u001b[0m\n\u001b[0;32m     15\u001b[0m \u001b[38;5;28;01melse\u001b[39;00m:\n\u001b[0;32m     16\u001b[0m     \u001b[38;5;66;03m# Call the data fetching function defined in Cell 4.\u001b[39;00m\n\u001b[0;32m     17\u001b[0m     \u001b[38;5;28mprint\u001b[39m(\u001b[38;5;124m\"\u001b[39m\u001b[38;5;124m   Calling the `fetch_spotify_track_data` function...\u001b[39m\u001b[38;5;124m\"\u001b[39m)\n\u001b[1;32m---> 18\u001b[0m     songs_df_raw \u001b[38;5;241m=\u001b[39m \u001b[43mfetch_spotify_track_data\u001b[49m\u001b[43m(\u001b[49m\u001b[43m \u001b[49m\u001b[38;5;66;43;03m# <--- Corrected function name\u001b[39;49;00m\n\u001b[0;32m     19\u001b[0m \u001b[43m        \u001b[49m\u001b[43mclient_id_param\u001b[49m\u001b[38;5;241;43m=\u001b[39;49m\u001b[43mclient_id\u001b[49m\u001b[43m,\u001b[49m\n\u001b[0;32m     20\u001b[0m \u001b[43m        \u001b[49m\u001b[43mclient_secret_param\u001b[49m\u001b[38;5;241;43m=\u001b[39;49m\u001b[43mclient_secret\u001b[49m\u001b[43m,\u001b[49m\n\u001b[0;32m     21\u001b[0m \u001b[43m        \u001b[49m\u001b[43mgenres_list\u001b[49m\u001b[38;5;241;43m=\u001b[39;49m\u001b[43mgenres\u001b[49m\u001b[43m,\u001b[49m\n\u001b[0;32m     22\u001b[0m \u001b[43m        \u001b[49m\u001b[43mnum_tracks_per_genre_target\u001b[49m\u001b[38;5;241;43m=\u001b[39;49m\u001b[43mnum_tracks_per_genre\u001b[49m\u001b[43m,\u001b[49m\n\u001b[0;32m     23\u001b[0m \u001b[43m        \u001b[49m\u001b[43mtotal_tracks_overall_target\u001b[49m\u001b[38;5;241;43m=\u001b[39;49m\u001b[43mtotal_tracks_target\u001b[49m\n\u001b[0;32m     24\u001b[0m \u001b[43m    \u001b[49m\u001b[43m)\u001b[49m\n\u001b[0;32m     26\u001b[0m \u001b[38;5;66;03m# --- Post-Collection Summary ---\u001b[39;00m\n\u001b[0;32m     27\u001b[0m \u001b[38;5;28;01mif\u001b[39;00m songs_df_raw \u001b[38;5;129;01mis\u001b[39;00m \u001b[38;5;129;01mnot\u001b[39;00m \u001b[38;5;28;01mNone\u001b[39;00m \u001b[38;5;129;01mand\u001b[39;00m \u001b[38;5;129;01mnot\u001b[39;00m songs_df_raw\u001b[38;5;241m.\u001b[39mempty:\n",
      "Cell \u001b[1;32mIn[3], line 162\u001b[0m, in \u001b[0;36mfetch_spotify_track_data\u001b[1;34m(client_id_param, client_secret_param, genres_list, num_tracks_per_genre_target, total_tracks_overall_target)\u001b[0m\n\u001b[0;32m    160\u001b[0m     \u001b[38;5;28;01melse\u001b[39;00m: \u001b[38;5;66;03m# Other Spotify API errors (e.g., 401 Unauthorized, 403 Forbidden, 500 Internal Server Error)\u001b[39;00m\n\u001b[0;32m    161\u001b[0m         \u001b[38;5;28mprint\u001b[39m(\u001b[38;5;124mf\u001b[39m\u001b[38;5;124m\"\u001b[39m\u001b[38;5;124m  Skipping to next API call or genre due to unrecoverable Spotify API error: HTTP \u001b[39m\u001b[38;5;132;01m{\u001b[39;00me\u001b[38;5;241m.\u001b[39mhttp_status\u001b[38;5;132;01m}\u001b[39;00m\u001b[38;5;124m.\u001b[39m\u001b[38;5;124m\"\u001b[39m)\n\u001b[1;32m--> 162\u001b[0m         time\u001b[38;5;241m.\u001b[39msleep(\u001b[38;5;241m5\u001b[39m) \u001b[38;5;66;03m# Brief general pause for other errors before continuing\u001b[39;00m\n\u001b[0;32m    163\u001b[0m \u001b[38;5;28;01mexcept\u001b[39;00m \u001b[38;5;167;01mException\u001b[39;00m \u001b[38;5;28;01mas\u001b[39;00m e: \u001b[38;5;66;03m# Catch any other unexpected errors during processing for a genre\u001b[39;00m\n\u001b[0;32m    164\u001b[0m     \u001b[38;5;28mprint\u001b[39m(\u001b[38;5;124mf\u001b[39m\u001b[38;5;124m\"\u001b[39m\u001b[38;5;124m  ❌ An unexpected error occurred while processing genre \u001b[39m\u001b[38;5;124m'\u001b[39m\u001b[38;5;132;01m{\u001b[39;00mgenre_item\u001b[38;5;132;01m}\u001b[39;00m\u001b[38;5;124m'\u001b[39m\u001b[38;5;124m: \u001b[39m\u001b[38;5;132;01m{\u001b[39;00m\u001b[38;5;28mtype\u001b[39m(e)\u001b[38;5;241m.\u001b[39m\u001b[38;5;18m__name__\u001b[39m\u001b[38;5;132;01m}\u001b[39;00m\u001b[38;5;124m - \u001b[39m\u001b[38;5;132;01m{\u001b[39;00m\u001b[38;5;28mstr\u001b[39m(e)\u001b[38;5;132;01m}\u001b[39;00m\u001b[38;5;124m\"\u001b[39m)\n",
      "\u001b[1;31mKeyboardInterrupt\u001b[0m: "
     ]
    }
   ],
   "source": [
    "# Cell 5: Execute Data Collection\n",
    "\n",
    "print(\"🚀 Initiating Spotify Data Collection Process...\")\n",
    "\n",
    "# Ensure API credentials are valid before proceeding\n",
    "# This check references the global client_id and client_secret from Cell 3\n",
    "if not client_id or client_id == 'YOUR_CLIENT_ID' or \\\n",
    "   not client_secret or client_secret == 'YOUR_CLIENT_SECRET':\n",
    "    print(\"=\"*80)\n",
    "    print(\"❌ EXECUTION HALTED: Spotify API credentials are not correctly set in Cell 3.\")\n",
    "    print(\"   Please configure them either as environment variables or directly in Cell 3 for development.\")\n",
    "    print(\"   Cannot proceed with data collection.\")\n",
    "    print(\"=\"*80)\n",
    "    songs_df_raw = None  # Ensure variable exists even if collection is skipped\n",
    "else:\n",
    "    # Call the data fetching function defined in Cell 4.\n",
    "    print(\"   Calling the `fetch_spotify_track_data` function...\")\n",
    "    songs_df_raw = fetch_spotify_track_data( # <--- Corrected function name\n",
    "        client_id_param=client_id,\n",
    "        client_secret_param=client_secret,\n",
    "        genres_list=genres,\n",
    "        num_tracks_per_genre_target=num_tracks_per_genre,\n",
    "        total_tracks_overall_target=total_tracks_target\n",
    "    )\n",
    "\n",
    "# --- Post-Collection Summary ---\n",
    "if songs_df_raw is not None and not songs_df_raw.empty:\n",
    "    print(\"\\n🎉 Spotify Data Collection Process Finished Successfully!\")\n",
    "    print(f\"   Collected a total of {len(songs_df_raw)} unique and valid tracks.\")\n",
    "    print(f\"   The raw dataset has {songs_df_raw.shape[1]} features (columns).\")\n",
    "elif songs_df_raw is not None and songs_df_raw.empty:\n",
    "    print(\"\\n⚠️ Data collection process completed, but the resulting DataFrame is empty.\")\n",
    "    print(\"   Please review the logs from the function call above for API errors or issues with track fetching.\")\n",
    "else: # songs_df_raw is None\n",
    "    print(\"\\n❌ Data collection process failed or was halted due to critical errors (e.g., authentication).\")\n",
    "    print(\"   Please review the error messages from the function call above.\")"
   ]
  },
  {
   "cell_type": "code",
   "execution_count": null,
   "id": "b8a46f04",
   "metadata": {},
   "outputs": [],
   "source": []
  }
 ],
 "metadata": {
  "kernelspec": {
   "display_name": "Python 3",
   "language": "python",
   "name": "python3"
  },
  "language_info": {
   "codemirror_mode": {
    "name": "ipython",
    "version": 3
   },
   "file_extension": ".py",
   "mimetype": "text/x-python",
   "name": "python",
   "nbconvert_exporter": "python",
   "pygments_lexer": "ipython3",
   "version": "3.11.4"
  }
 },
 "nbformat": 4,
 "nbformat_minor": 5
}
